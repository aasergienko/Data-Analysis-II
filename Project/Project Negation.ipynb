{
 "cells": [
  {
   "cell_type": "markdown",
   "id": "96ace891",
   "metadata": {},
   "source": [
    "# Non-canonical negation in sign languages and spoken languages\n",
    "\n",
    "My current project is focused on the transfer of negation patterns between sign languages and spoken languages.\n",
    "\n",
    "I use the data from WALS database: namely, features 139A ('Irregular Negatives in Sign Languages') and 114A \n",
    "('Subtypes of Asymmetric Standard Negation'). The first map shows a number of irregular negative forms in each given\n",
    "sign language. The second map explores subtypes of assymetrical negation in spoken languages. The project aims to compare the \n",
    "two distributions.\n",
    "\n",
    "More specifically, I aim to explore two hypotheses:\n",
    "\n",
    "<ol>\n",
    "<li><b>Hyp1</b>: Areal distribution of complex negation patterns in sign languages corresponds to that of spoken languages,</li>\n",
    "<li><b>Hyp2</b>: When there is a complex negation pattern in a given sign language, it can often be attributed to a corresponding\n",
    "spoken language used in that area</li>\n",
    "</ol>\n",
    "\n",
    "\n",
    "\n"
   ]
  },
  {
   "cell_type": "markdown",
   "id": "51a10c20",
   "metadata": {},
   "source": [
    "In the next cells I import the CLDF datasets of WALS data from https://github.com/cldf-datasets/wals/tree/master/cldf\n",
    "There are two datasets: languages (the genealogical and geographical data for each language) and values \n",
    "(all values for all WALS maps)."
   ]
  },
  {
   "cell_type": "code",
   "execution_count": 33,
   "id": "35edac91",
   "metadata": {},
   "outputs": [],
   "source": [
    "import sqlite3\n",
    "import pandas as pd\n",
    "values = pd.read_csv('values.csv')\n",
    "\n"
   ]
  },
  {
   "cell_type": "code",
   "execution_count": 30,
   "id": "1e11bbc2",
   "metadata": {},
   "outputs": [],
   "source": [
    "languages = pd.read_csv('languages.csv')"
   ]
  },
  {
   "cell_type": "markdown",
   "id": "1fb23992",
   "metadata": {},
   "source": [
    "Next, I select the parametres of maps 139A (<a href=\"https://wals.info/feature/139A#2/19.0/146.8\"> 'Irregular Negatives in Sign Languages' </a>) and map 114A <a href=\"https://wals.info/feature/114A#2/18.0/149.2\">\n",
    "('Subtypes of Asymmetric Standard Negation') </a> from the 'values' dataset, which contains all the values for all maps."
   ]
  },
  {
   "cell_type": "code",
   "execution_count": 31,
   "id": "bc5f38a3",
   "metadata": {},
   "outputs": [],
   "source": [
    "values2 = values[values[\"Parameter_ID\"].isin(['139A', '114A'])]\n"
   ]
  },
  {
   "cell_type": "markdown",
   "id": "0d1ea326",
   "metadata": {},
   "source": [
    "The two datasets are later merged into a single one\n",
    "This new dataset contains information about sign + spoken languages, their parametres (whether there is assymetrical negation),\n",
    "their location and genus."
   ]
  },
  {
   "cell_type": "code",
   "execution_count": 98,
   "id": "ccf8b8c5",
   "metadata": {},
   "outputs": [
    {
     "data": {
      "text/html": [
       "<div>\n",
       "<style scoped>\n",
       "    .dataframe tbody tr th:only-of-type {\n",
       "        vertical-align: middle;\n",
       "    }\n",
       "\n",
       "    .dataframe tbody tr th {\n",
       "        vertical-align: top;\n",
       "    }\n",
       "\n",
       "    .dataframe thead th {\n",
       "        text-align: right;\n",
       "    }\n",
       "</style>\n",
       "<table border=\"1\" class=\"dataframe\">\n",
       "  <thead>\n",
       "    <tr style=\"text-align: right;\">\n",
       "      <th></th>\n",
       "      <th>Language_ID</th>\n",
       "      <th>Name</th>\n",
       "      <th>Macroarea</th>\n",
       "      <th>Latitude</th>\n",
       "      <th>Longitude</th>\n",
       "      <th>Glottocode</th>\n",
       "      <th>ISO639P3code</th>\n",
       "      <th>Family</th>\n",
       "      <th>Subfamily</th>\n",
       "      <th>Genus</th>\n",
       "      <th>...</th>\n",
       "      <th>Samples_200</th>\n",
       "      <th>Country_ID</th>\n",
       "      <th>Source_x</th>\n",
       "      <th>ID</th>\n",
       "      <th>Parameter_ID</th>\n",
       "      <th>Value</th>\n",
       "      <th>Code_ID</th>\n",
       "      <th>Comment</th>\n",
       "      <th>Source_y</th>\n",
       "      <th>Example_ID</th>\n",
       "    </tr>\n",
       "  </thead>\n",
       "  <tbody>\n",
       "    <tr>\n",
       "      <th>0</th>\n",
       "      <td>abi</td>\n",
       "      <td>Abipón</td>\n",
       "      <td>South America</td>\n",
       "      <td>-29.000000</td>\n",
       "      <td>-61.000000</td>\n",
       "      <td>abip1241</td>\n",
       "      <td>axb</td>\n",
       "      <td>Guaicuruan</td>\n",
       "      <td>NaN</td>\n",
       "      <td>Abipon</td>\n",
       "      <td>...</td>\n",
       "      <td>True</td>\n",
       "      <td>AR</td>\n",
       "      <td>Bybee-et-al-1994 Dobrizhoffer-1902 Najlis-1966</td>\n",
       "      <td>114A-abi</td>\n",
       "      <td>114A</td>\n",
       "      <td>3</td>\n",
       "      <td>114A-3</td>\n",
       "      <td>NaN</td>\n",
       "      <td>Najlis-1966[70-71, passim]</td>\n",
       "      <td>NaN</td>\n",
       "    </tr>\n",
       "    <tr>\n",
       "      <th>1</th>\n",
       "      <td>abk</td>\n",
       "      <td>Abkhaz</td>\n",
       "      <td>Eurasia</td>\n",
       "      <td>43.083333</td>\n",
       "      <td>41.000000</td>\n",
       "      <td>abkh1244</td>\n",
       "      <td>abk</td>\n",
       "      <td>Northwest Caucasian</td>\n",
       "      <td>NaN</td>\n",
       "      <td>Northwest Caucasian</td>\n",
       "      <td>...</td>\n",
       "      <td>True</td>\n",
       "      <td>GE</td>\n",
       "      <td>Bybee-et-al-1994 Gecadze-1979 Hewitt-1979 Hewi...</td>\n",
       "      <td>114A-abk</td>\n",
       "      <td>114A</td>\n",
       "      <td>3</td>\n",
       "      <td>114A-3</td>\n",
       "      <td>NaN</td>\n",
       "      <td>Hewitt-1979[70-71]</td>\n",
       "      <td>NaN</td>\n",
       "    </tr>\n",
       "    <tr>\n",
       "      <th>2</th>\n",
       "      <td>acm</td>\n",
       "      <td>Achumawi</td>\n",
       "      <td>North America</td>\n",
       "      <td>41.500000</td>\n",
       "      <td>-121.000000</td>\n",
       "      <td>achu1247</td>\n",
       "      <td>acv</td>\n",
       "      <td>Hokan</td>\n",
       "      <td>Palaihnihan</td>\n",
       "      <td>Achumawi</td>\n",
       "      <td>...</td>\n",
       "      <td>False</td>\n",
       "      <td>US</td>\n",
       "      <td>Olmsted-1964 Olmsted-1966 Olmsted-1977 de-Angu...</td>\n",
       "      <td>114A-acm</td>\n",
       "      <td>114A</td>\n",
       "      <td>1</td>\n",
       "      <td>114A-1</td>\n",
       "      <td>NaN</td>\n",
       "      <td>de-Angulo-and-Freeland-1931[112, 115-116, passim]</td>\n",
       "      <td>NaN</td>\n",
       "    </tr>\n",
       "    <tr>\n",
       "      <th>3</th>\n",
       "      <td>aco</td>\n",
       "      <td>Acoma</td>\n",
       "      <td>North America</td>\n",
       "      <td>34.916667</td>\n",
       "      <td>-107.583333</td>\n",
       "      <td>west2632</td>\n",
       "      <td>kjq</td>\n",
       "      <td>Keresan</td>\n",
       "      <td>NaN</td>\n",
       "      <td>Keresan</td>\n",
       "      <td>...</td>\n",
       "      <td>True</td>\n",
       "      <td>US</td>\n",
       "      <td>Maring-1967 Miller-1965 Miller-1966 Nichols-19...</td>\n",
       "      <td>114A-aco</td>\n",
       "      <td>114A</td>\n",
       "      <td>3</td>\n",
       "      <td>114A-3</td>\n",
       "      <td>NaN</td>\n",
       "      <td>Miller-1965[123, 182, passim]</td>\n",
       "      <td>NaN</td>\n",
       "    </tr>\n",
       "    <tr>\n",
       "      <th>4</th>\n",
       "      <td>ada</td>\n",
       "      <td>Adamorobe Sign Language</td>\n",
       "      <td>Africa</td>\n",
       "      <td>5.833333</td>\n",
       "      <td>-0.166667</td>\n",
       "      <td>adam1238</td>\n",
       "      <td>ads</td>\n",
       "      <td>other</td>\n",
       "      <td>NaN</td>\n",
       "      <td>Sign Languages</td>\n",
       "      <td>...</td>\n",
       "      <td>False</td>\n",
       "      <td>GH</td>\n",
       "      <td>Frishberg-1987</td>\n",
       "      <td>139A-ada</td>\n",
       "      <td>139A</td>\n",
       "      <td>3</td>\n",
       "      <td>139A-3</td>\n",
       "      <td>NaN</td>\n",
       "      <td>NaN</td>\n",
       "      <td>NaN</td>\n",
       "    </tr>\n",
       "  </tbody>\n",
       "</table>\n",
       "<p>5 rows × 23 columns</p>\n",
       "</div>"
      ],
      "text/plain": [
       "  Language_ID                     Name      Macroarea   Latitude   Longitude  \\\n",
       "0         abi                   Abipón  South America -29.000000  -61.000000   \n",
       "1         abk                   Abkhaz        Eurasia  43.083333   41.000000   \n",
       "2         acm                 Achumawi  North America  41.500000 -121.000000   \n",
       "3         aco                    Acoma  North America  34.916667 -107.583333   \n",
       "4         ada  Adamorobe Sign Language         Africa   5.833333   -0.166667   \n",
       "\n",
       "  Glottocode ISO639P3code               Family    Subfamily  \\\n",
       "0   abip1241          axb           Guaicuruan          NaN   \n",
       "1   abkh1244          abk  Northwest Caucasian          NaN   \n",
       "2   achu1247          acv                Hokan  Palaihnihan   \n",
       "3   west2632          kjq              Keresan          NaN   \n",
       "4   adam1238          ads                other          NaN   \n",
       "\n",
       "                 Genus  ... Samples_200 Country_ID  \\\n",
       "0               Abipon  ...        True         AR   \n",
       "1  Northwest Caucasian  ...        True         GE   \n",
       "2             Achumawi  ...       False         US   \n",
       "3              Keresan  ...        True         US   \n",
       "4       Sign Languages  ...       False         GH   \n",
       "\n",
       "                                            Source_x        ID Parameter_ID  \\\n",
       "0     Bybee-et-al-1994 Dobrizhoffer-1902 Najlis-1966  114A-abi         114A   \n",
       "1  Bybee-et-al-1994 Gecadze-1979 Hewitt-1979 Hewi...  114A-abk         114A   \n",
       "2  Olmsted-1964 Olmsted-1966 Olmsted-1977 de-Angu...  114A-acm         114A   \n",
       "3  Maring-1967 Miller-1965 Miller-1966 Nichols-19...  114A-aco         114A   \n",
       "4                                     Frishberg-1987  139A-ada         139A   \n",
       "\n",
       "  Value Code_ID Comment                                           Source_y  \\\n",
       "0     3  114A-3     NaN                         Najlis-1966[70-71, passim]   \n",
       "1     3  114A-3     NaN                                 Hewitt-1979[70-71]   \n",
       "2     1  114A-1     NaN  de-Angulo-and-Freeland-1931[112, 115-116, passim]   \n",
       "3     3  114A-3     NaN                      Miller-1965[123, 182, passim]   \n",
       "4     3  139A-3     NaN                                                NaN   \n",
       "\n",
       "  Example_ID  \n",
       "0        NaN  \n",
       "1        NaN  \n",
       "2        NaN  \n",
       "3        NaN  \n",
       "4        NaN  \n",
       "\n",
       "[5 rows x 23 columns]"
      ]
     },
     "execution_count": 98,
     "metadata": {},
     "output_type": "execute_result"
    }
   ],
   "source": [
    "languages = languages.rename(columns={'ID': 'Language_ID'})\n",
    "dfmerge = pd.merge(languages, values2, how='inner', on = \"Language_ID\")\n",
    "dfmerge.head()"
   ]
  },
  {
   "cell_type": "markdown",
   "id": "14706a09",
   "metadata": {},
   "source": [
    "Then I need to bring the values of two maps to a common standard. The values of 114A have the following system: 1-3 mean\n",
    "'one type of assymetry in negation', 4-6 mean 'there are more types of assymetry in negation marking',\n",
    "7 means 'there is no assymetry'. The values of 139A follow a different system:\n",
    "1 means 'no irregular negation markers', 2-3 means 'some irregular negation markers', 4 means \n",
    "'a lot of irregular negation markers'.\n",
    "\n",
    "So, in order to compare the two maps, we need to make a common annotation system for these maps. Let it be thus:\n",
    "<ul><li>1 means 'no assymetry in negation marking / no irregular negation markers',</li>\n",
    "<li>2 means 'one type of assymetry in negation marking / some irregular negation markers',</li>\n",
    "<li>3 means 'more than one type of assymetry in negation marking / many irregular negation markers'.</li></ul>"
   ]
  },
  {
   "cell_type": "code",
   "execution_count": 48,
   "id": "bee34257",
   "metadata": {},
   "outputs": [],
   "source": [
    "\n",
    "dfmerge.loc[(dfmerge[\"Value\"] > 0) & (dfmerge[\"Value\"] < 4) & (dfmerge[\"Parameter_ID\"] == '114A'), \"Value\"] = 2\n",
    "dfmerge.loc[(dfmerge[\"Value\"] > 3) & (dfmerge[\"Value\"] < 7) & (dfmerge[\"Parameter_ID\"] == '114A'), \"Value\"] = 3\n",
    "dfmerge.loc[(dfmerge[\"Value\"] == 7) & (dfmerge[\"Parameter_ID\"] == '114A'), \"Value\"] = 1\n",
    "dfmerge.loc[(dfmerge[\"Value\"] > 1) & (dfmerge[\"Value\"] < 4) & (dfmerge[\"Parameter_ID\"] == '139A'), \"Value\"] = 2\n",
    "dfmerge.loc[(dfmerge[\"Value\"] == 4) & (dfmerge[\"Parameter_ID\"] == '139A'), \"Value\"] = 3"
   ]
  },
  {
   "cell_type": "markdown",
   "id": "2c00437e",
   "metadata": {},
   "source": [
    "But after making a common annotation scheme for the two maps, it is evident that there is an uneven distribution of\n",
    "irregular and regular negative markers across the two samples. In the 114A language sample (spoken languages), no\n",
    "assymetry in negation was found in 114 languages, meanwhile in the 139A sample (sign languages), only one language \n",
    "does not have irregular negation markers. It can be shown in the graphs below."
   ]
  },
  {
   "cell_type": "markdown",
   "id": "669a09a0",
   "metadata": {},
   "source": [
    "The next important point is that the comparision that I am going to make is not at all straightforward. In the 114A language sample Miestamo surveyes an assymetry between affirmative sentences and corresponding negative sentences. In the 119A sample Zeshan explores patterns of negative suppletion and derivation. That is not a straight correspondence by any means"
   ]
  },
  {
   "cell_type": "code",
   "execution_count": 21,
   "id": "83954889",
   "metadata": {},
   "outputs": [],
   "source": [
    "dfsign = dfmerge[dfmerge[\"Parameter_ID\"] == \"139A\"]\n",
    "dfsignlite = dfsign[['Value']]"
   ]
  },
  {
   "cell_type": "code",
   "execution_count": 22,
   "id": "e1e1af37",
   "metadata": {},
   "outputs": [],
   "source": [
    "import matplotlib.pyplot as plt\n",
    "%matplotlib inline\n",
    "import seaborn as sns"
   ]
  },
  {
   "cell_type": "code",
   "execution_count": 23,
   "id": "0c36de76",
   "metadata": {},
   "outputs": [
    {
     "name": "stderr",
     "output_type": "stream",
     "text": [
      "C:\\Users\\Alexander\\AppData\\Local\\Temp\\ipykernel_14524\\963202842.py:3: SettingWithCopyWarning: \n",
      "A value is trying to be set on a copy of a slice from a DataFrame\n",
      "\n",
      "See the caveats in the documentation: https://pandas.pydata.org/pandas-docs/stable/user_guide/indexing.html#returning-a-view-versus-a-copy\n",
      "  dfsignlite1.loc[dfsignlite1['Value'] == 2, 'Value'] = 'some irregular negation markers'\n",
      "C:\\Users\\Alexander\\AppData\\Local\\Temp\\ipykernel_14524\\963202842.py:4: SettingWithCopyWarning: \n",
      "A value is trying to be set on a copy of a slice from a DataFrame\n",
      "\n",
      "See the caveats in the documentation: https://pandas.pydata.org/pandas-docs/stable/user_guide/indexing.html#returning-a-view-versus-a-copy\n",
      "  dfsignlite1.loc[dfsignlite1['Value'] == 3, 'Value'] = 'many irregular negation markers'\n"
     ]
    }
   ],
   "source": [
    "dfsignlite1 = dfsignlite\n",
    "dfsignlite1.loc[dfsignlite1['Value'] == 1, 'Value'] = 'no irregular negation markers'\n",
    "dfsignlite1.loc[dfsignlite1['Value'] == 2, 'Value'] = 'some irregular negation markers'\n",
    "dfsignlite1.loc[dfsignlite1['Value'] == 3, 'Value'] = 'many irregular negation markers'"
   ]
  },
  {
   "cell_type": "code",
   "execution_count": 24,
   "id": "43bcf962",
   "metadata": {},
   "outputs": [
    {
     "data": {
      "image/png": "[encoded data removed]",
      "text/plain": [
       "<Figure size 640x480 with 1 Axes>"
      ]
     },
     "metadata": {},
     "output_type": "display_data"
    }
   ],
   "source": [
    "dfsignlite1.value_counts().plot.bar(color='blue')\n",
    "plt.title('Irregular negation markers in sign languages')\n",
    "plt.xlabel('Number of negation markers')\n",
    "plt.ylabel('Number of languages');"
   ]
  },
  {
   "cell_type": "markdown",
   "id": "2af07409",
   "metadata": {},
   "source": [
    "It is visible from the graph that in the sign languages surveyed, there were almost no languages with no irregular negation markers. That stands in a sharp contrast to the patterns of the spoken languages sample."
   ]
  },
  {
   "cell_type": "code",
   "execution_count": 25,
   "id": "410d9437",
   "metadata": {},
   "outputs": [],
   "source": [
    "dfspoken = dfmerge[dfmerge[\"Parameter_ID\"] == \"114A\"]\n",
    "dfspokenlite = dfspoken[['Value']]"
   ]
  },
  {
   "cell_type": "code",
   "execution_count": 26,
   "id": "fdb0f690",
   "metadata": {},
   "outputs": [
    {
     "name": "stderr",
     "output_type": "stream",
     "text": [
      "C:\\Users\\Alexander\\AppData\\Local\\Temp\\ipykernel_14524\\4020635629.py:3: SettingWithCopyWarning: \n",
      "A value is trying to be set on a copy of a slice from a DataFrame\n",
      "\n",
      "See the caveats in the documentation: https://pandas.pydata.org/pandas-docs/stable/user_guide/indexing.html#returning-a-view-versus-a-copy\n",
      "  dfspokenlite1.loc[dfspokenlite1['Value'] == 2, 'Value'] = 'one type of assymetry'\n",
      "C:\\Users\\Alexander\\AppData\\Local\\Temp\\ipykernel_14524\\4020635629.py:4: SettingWithCopyWarning: \n",
      "A value is trying to be set on a copy of a slice from a DataFrame\n",
      "\n",
      "See the caveats in the documentation: https://pandas.pydata.org/pandas-docs/stable/user_guide/indexing.html#returning-a-view-versus-a-copy\n",
      "  dfspokenlite1.loc[dfspokenlite1['Value'] == 3, 'Value'] = 'more than one type of assymetry'\n"
     ]
    }
   ],
   "source": [
    "dfspokenlite1 = dfspokenlite\n",
    "dfspokenlite1.loc[dfspokenlite1['Value'] == 1, 'Value'] = 'no assymetry'\n",
    "dfspokenlite1.loc[dfspokenlite1['Value'] == 2, 'Value'] = 'one type of assymetry'\n",
    "dfspokenlite1.loc[dfspokenlite1['Value'] == 3, 'Value'] = 'more than one type of assymetry'"
   ]
  },
  {
   "cell_type": "code",
   "execution_count": 27,
   "id": "dc1c1f27",
   "metadata": {},
   "outputs": [
    {
     "data": {
      "image/png": "[encoded data removed]",
      "text/plain": [
       "<Figure size 640x480 with 1 Axes>"
      ]
     },
     "metadata": {},
     "output_type": "display_data"
    }
   ],
   "source": [
    "dfspokenlite1.value_counts().plot.bar(color='red')\n",
    "plt.title('Assymetry in negation marking in spoken languages')\n",
    "plt.xlabel('Assymetry types')\n",
    "plt.ylabel('Number of languages');"
   ]
  },
  {
   "cell_type": "markdown",
   "id": "fff66d0c",
   "metadata": {},
   "source": [
    "The second graph shows a fundamentally different distribution. Almost a third of languages surveyed showed no assymetry in negation marking, which contrasts with the sign language data.\n",
    "\n",
    "This contrast can be shown with a simple metric that I will call '<i>negation complexity index</i>'.\n",
    "\n",
    "Negation complexity index is a mean value of 'negation value' of several languages. Let's recall the annotation scheme for negation marking.\n",
    "<ul><li>1 means 'no assymetry in negation marking / no irregular negation markers',</li>\n",
    "<li>2 means 'one type of assymetry in negation marking / some irregular negation markers',</li>\n",
    "<li>3 means 'more than one type of assymetry in negation marking / many irregular negation markers'.</li></ul>\n",
    "\n",
    "Then, linguistic areas where the negation complexity index is closer to 1 will have little to no assymetry in negation marking or little to no irregular negative markers. On the contrary, if the negation complexity index is closer to 3, a language from that area is expected to have complex assymetry in negation marking or many irregular negation markers."
   ]
  },
  {
   "cell_type": "markdown",
   "id": "73d6c411",
   "metadata": {},
   "source": [
    "First, let's compare the whole spoken language sample and the whole signed language sample by this metric."
   ]
  },
  {
   "cell_type": "code",
   "execution_count": 28,
   "id": "0d57140a",
   "metadata": {},
   "outputs": [
    {
     "name": "stdout",
     "output_type": "stream",
     "text": [
      "The average negation complexity index of signed languages is 2.5714285714285716\n",
      "The average negation complexity index of spoken languages is 1.754208754208754\n"
     ]
    }
   ],
   "source": [
    "print('The average negation complexity index of signed languages is', dfsign['Value'].mean())\n",
    "print('The average negation complexity index of spoken languages is', dfspoken['Value'].mean())\n"
   ]
  },
  {
   "cell_type": "markdown",
   "id": "ade0af24",
   "metadata": {},
   "source": [
    "It is clear that in signed languages sample there are significantly more complex negation patterns than in spoken one.\n",
    "\n",
    "However, this difference can be viewed not only as an inherent difference of spoken and signed languages, but as a difference in the samples that were used in these maps. \n",
    "First, the sample size of spoken languages sample is almost 10 times larger than the sample size of signed languages."
   ]
  },
  {
   "cell_type": "code",
   "execution_count": 32,
   "id": "1c47b2c7",
   "metadata": {},
   "outputs": [
    {
     "name": "stdout",
     "output_type": "stream",
     "text": [
      "The sample size of the signed language sample is 35 languages\n",
      "The sample size of the spoken language sample is 297 languages\n"
     ]
    }
   ],
   "source": [
    "print('The sample size of the signed language sample is',len(dfsign.index), 'languages')\n",
    "print('The sample size of the spoken language sample is',len(dfspoken.index), 'languages')\n"
   ]
  },
  {
   "cell_type": "markdown",
   "id": "b8fe23b6",
   "metadata": {},
   "source": [
    "Next, it may be the case that the sign language sample is uneven. There are only 2 village sign languages in the sample (which are known to have little irregular negation markers). Moreover, the sample features one emerging sign language: Israeli sign language. \n",
    "<hr>\n",
    "<br>\n"
   ]
  },
  {
   "cell_type": "markdown",
   "id": "fc4834be",
   "metadata": {},
   "source": [
    "## Some areal patterns\n",
    "In this section I am going to explore some areal patterns of irregular negatives in signed languages and look whether there is any correspondence between these patterns and patterns of assymetric negation in spoken languages."
   ]
  },
  {
   "cell_type": "markdown",
   "id": "1e9cceb1",
   "metadata": {},
   "source": [
    "### 1. Europe\n",
    "The signed languages of Europe are reported to have many irregular negation markers. As the author puts it, \n",
    ">European sign languages as a whole predominantly have many irregular negatives with some negative derivation\n",
    "\n",
    "However, if we look at the map of negation in spoken languages of Europe, the distribution will be different, with many\n",
    "'white' dots indicating languages with no assymetrical negation.\n",
    "<br> <br>\n",
    "This can be illustrated by the negation complexity index introduced above. We can compare the negation complexity indexes of European signed languages with the worldwide average, as well as negation complexity indexes of European spoken languages with the worldwide average."
   ]
  },
  {
   "cell_type": "code",
   "execution_count": 35,
   "id": "839c9fdc",
   "metadata": {},
   "outputs": [],
   "source": [
    "dfsigneurope = dfsign[(dfsign['Latitude']>36)&(dfsign['Latitude']<70)& (dfsign['Longitude'] > -15)&(dfsign['Longitude'] < 36)]\n",
    "dfspokeneurope = dfspoken[(dfspoken['Latitude']>36)&(dfspoken['Latitude']<70)& (dfspoken['Longitude'] > -15)&(dfspoken['Longitude'] < 36)]"
   ]
  },
  {
   "cell_type": "code",
   "execution_count": 36,
   "id": "f20bb9c8",
   "metadata": {},
   "outputs": [
    {
     "name": "stdout",
     "output_type": "stream",
     "text": [
      "The average negation complexity index of European signed languages is 2.5833333333333335\n",
      "The average negation complexity index of European spoken languages is 1.4285714285714286\n"
     ]
    }
   ],
   "source": [
    "print('The average negation complexity index of European signed languages is', dfsigneurope['Value'].mean())\n",
    "print('The average negation complexity index of European spoken languages is', dfspokeneurope['Value'].mean())"
   ]
  },
  {
   "cell_type": "markdown",
   "id": "da634fc2",
   "metadata": {},
   "source": [
    "The numbers presented above show that in signed languages the negation complexity index of European languages is similar to the worldwide average (2.58 vs. 2.57). In contrast, in spoken languages the complexity index of European languages is significantly lower than the worldwide average (1.42 vs. 1.75). Here is a graph that shows this difference:"
   ]
  },
  {
   "cell_type": "code",
   "execution_count": 39,
   "id": "43f3ec44",
   "metadata": {},
   "outputs": [
    {
     "data": {
      "image/png": "[encoded data removed]",
      "text/plain": [
       "<Figure size 640x480 with 1 Axes>"
      ]
     },
     "metadata": {},
     "output_type": "display_data"
    }
   ],
   "source": [
    "data1 = [\n",
    "    {\"modality\": \"signed\", \"location\": 'worldwide', 'Value': 2.57}, \n",
    "    {\"modality\": \"signed\", \"location\": 'Europe', 'Value': 2.58}, \n",
    "    {\"modality\": \"spoken\", \"location\": 'worldwide', 'Value': 1.75}, \n",
    "    {\"modality\": \"spoken\", \"location\": 'Europe', 'Value': 1.42}\n",
    "]\n",
    "dfeuronumbers = pd.DataFrame(data1)\n",
    "sns.barplot(x=\"modality\", y=\"Value\", hue='location', data=dfeuronumbers)\n",
    "plt.ylim((1, 3))\n",
    "plt.title('Europe vs. worldwide negation complexity')\n",
    "plt.xlabel('Language modality')\n",
    "plt.ylabel('Negation complexity index');"
   ]
  },
  {
   "cell_type": "markdown",
   "id": "b4a4f7c5",
   "metadata": {},
   "source": [
    "### 2. East Asia\n",
    "This region is also identified as containing languages with many irregular negation markers. As the quote goes, \n",
    ">Sign languages in East Asia also have a large number of irregular negatives"
   ]
  },
  {
   "cell_type": "code",
   "execution_count": 44,
   "id": "de396edb",
   "metadata": {},
   "outputs": [],
   "source": [
    "dfsignasia = dfsign[(dfsign['Latitude']>22)&(dfsign['Latitude']<40)& (dfsign['Longitude'] > 110)&(dfsign['Longitude'] < 142)]\n",
    "dfspokeneasia = dfspoken[(dfspoken['Latitude']>22)&(dfspoken['Latitude']<40)& (dfspoken['Longitude'] > 110)&(dfspoken['Longitude'] < 142)]"
   ]
  },
  {
   "cell_type": "code",
   "execution_count": 45,
   "id": "bf759905",
   "metadata": {},
   "outputs": [
    {
     "name": "stdout",
     "output_type": "stream",
     "text": [
      "The average negation complexity index of East Asian signed languages is 3.0\n",
      "The average negation complexity index of East Asian spoken languages is 2.4\n"
     ]
    }
   ],
   "source": [
    "print('The average negation complexity index of East Asian signed languages is', dfsignasia['Value'].mean())\n",
    "print('The average negation complexity index of East Asian spoken languages is', dfspokeneasia['Value'].mean())"
   ]
  },
  {
   "cell_type": "markdown",
   "id": "d41ed35e",
   "metadata": {},
   "source": [
    "However, the number of East Asian languages surveyed is so small (5) that I cannot analyze these figures. Therefore, no conclusion is made on the topic."
   ]
  },
  {
   "cell_type": "markdown",
   "id": "9d674355",
   "metadata": {},
   "source": [
    "## Mapping of signed languages with spoken languages\n",
    "In this paragraph I will explore the hypothesis 2. \n",
    ">When there is a complex negation pattern in a given sign language, it can often be attributed to a corresponding spoken language used in that area\n",
    "\n",
    "<br>\n",
    "In order to achieve this, I will create a new dataframe with each signed language assigned a corresponding spoken language (if it exists in the sample). Unfortunately, it can only be done manually (I will use Google Spreadsheets for this purpose). "
   ]
  },
  {
   "cell_type": "code",
   "execution_count": 133,
   "id": "4ec3dec8",
   "metadata": {},
   "outputs": [
    {
     "data": {
      "text/html": [
       "<div>\n",
       "<style scoped>\n",
       "    .dataframe tbody tr th:only-of-type {\n",
       "        vertical-align: middle;\n",
       "    }\n",
       "\n",
       "    .dataframe tbody tr th {\n",
       "        vertical-align: top;\n",
       "    }\n",
       "\n",
       "    .dataframe thead th {\n",
       "        text-align: right;\n",
       "    }\n",
       "</style>\n",
       "<table border=\"1\" class=\"dataframe\">\n",
       "  <thead>\n",
       "    <tr style=\"text-align: right;\">\n",
       "      <th></th>\n",
       "      <th>Sign language</th>\n",
       "      <th>Spoken language</th>\n",
       "      <th>Sign value</th>\n",
       "      <th>Spoken value</th>\n",
       "    </tr>\n",
       "  </thead>\n",
       "  <tbody>\n",
       "    <tr>\n",
       "      <th>0</th>\n",
       "      <td>American Sign Language</td>\n",
       "      <td>English</td>\n",
       "      <td>3</td>\n",
       "      <td>2</td>\n",
       "    </tr>\n",
       "    <tr>\n",
       "      <th>1</th>\n",
       "      <td>Auslan</td>\n",
       "      <td>English</td>\n",
       "      <td>3</td>\n",
       "      <td>2</td>\n",
       "    </tr>\n",
       "    <tr>\n",
       "      <th>2</th>\n",
       "      <td>British Sign Language</td>\n",
       "      <td>English</td>\n",
       "      <td>3</td>\n",
       "      <td>2</td>\n",
       "    </tr>\n",
       "    <tr>\n",
       "      <th>3</th>\n",
       "      <td>Chinese Sign Language</td>\n",
       "      <td>Mandarin</td>\n",
       "      <td>3</td>\n",
       "      <td>2</td>\n",
       "    </tr>\n",
       "    <tr>\n",
       "      <th>4</th>\n",
       "      <td>Deutsche Gebärdensprache</td>\n",
       "      <td>German</td>\n",
       "      <td>3</td>\n",
       "      <td>1</td>\n",
       "    </tr>\n",
       "  </tbody>\n",
       "</table>\n",
       "</div>"
      ],
      "text/plain": [
       "              Sign language Spoken language  Sign value  Spoken value\n",
       "0    American Sign Language         English           3             2\n",
       "1                    Auslan         English           3             2\n",
       "2     British Sign Language         English           3             2\n",
       "3     Chinese Sign Language        Mandarin           3             2\n",
       "4  Deutsche Gebärdensprache          German           3             1"
      ]
     },
     "execution_count": 133,
     "metadata": {},
     "output_type": "execute_result"
    }
   ],
   "source": [
    "dfmapping = pd.read_csv('mapping.csv')\n",
    "dfmapping.head()"
   ]
  },
  {
   "cell_type": "markdown",
   "id": "6e9137aa",
   "metadata": {},
   "source": [
    "The resulting dataframe is quite small (24 rows), so no statistical testing can be applied to this type of data. However, visualizations will still be used."
   ]
  },
  {
   "cell_type": "markdown",
   "id": "5522310c",
   "metadata": {},
   "source": [
    "The next chart shows average negation complexity values of spoken languages, which are grouped by a complexity value of a corresponding signed language."
   ]
  },
  {
   "cell_type": "code",
   "execution_count": 132,
   "id": "f585f7b1",
   "metadata": {},
   "outputs": [
    {
     "data": {
      "image/png": "[encoded data removed]",
      "text/plain": [
       "<Figure size 640x480 with 1 Axes>"
      ]
     },
     "metadata": {},
     "output_type": "display_data"
    }
   ],
   "source": [
    "dfmapping.groupby([\"Sign value\"]).agg({\"Spoken value\": \"mean\"}).plot.bar(color='black')\n",
    "plt.ylim((1, 3))\n",
    "plt.title('Negation complexity indexes of spoken languages')\n",
    "plt.xlabel('NCI of signed languages')\n",
    "plt.ylabel('average NCI of corresponding spoken languages');\n"
   ]
  },
  {
   "cell_type": "markdown",
   "id": "8f0ecee7",
   "metadata": {},
   "source": [
    "It is visible from the graph that the signed languages with a higher negation complexity index correspond to spoken languages with higher negation complexity indeces. However, this slight difference may not be statistically relevant, and there is no way to check it. The main problem with the statistical analysis is that the values of both columns are discrete (1, 2 or 3).  "
   ]
  },
  {
   "cell_type": "code",
   "execution_count": 195,
   "id": "3188e785",
   "metadata": {},
   "outputs": [
    {
     "data": {
      "image/png": "[encoded data removed]",
      "text/plain": [
       "<Figure size 640x480 with 1 Axes>"
      ]
     },
     "metadata": {},
     "output_type": "display_data"
    }
   ],
   "source": [
    "dfmapping.groupby([\"Sign value\"]).value_counts(['Spoken value']).plot.bar(color='black')\n",
    "plt.title('Negation complexity indexes of spoken languages')\n",
    "plt.xlabel('NCI of signed languages and spoken languages')\n",
    "plt.ylabel('Number of spoken languages');\n"
   ]
  },
  {
   "cell_type": "markdown",
   "id": "a44d31c0",
   "metadata": {},
   "source": [
    "The next graph shows that there are no mappings in the sample where the negation complexity index of a spoken language is higher than the negation complexity index of a signed language."
   ]
  },
  {
   "cell_type": "code",
   "execution_count": 193,
   "id": "f038a577",
   "metadata": {},
   "outputs": [
    {
     "data": {
      "text/html": [
       "<div>\n",
       "<style scoped>\n",
       "    .dataframe tbody tr th:only-of-type {\n",
       "        vertical-align: middle;\n",
       "    }\n",
       "\n",
       "    .dataframe tbody tr th {\n",
       "        vertical-align: top;\n",
       "    }\n",
       "\n",
       "    .dataframe thead th {\n",
       "        text-align: right;\n",
       "    }\n",
       "</style>\n",
       "<table border=\"1\" class=\"dataframe\">\n",
       "  <thead>\n",
       "    <tr style=\"text-align: right;\">\n",
       "      <th></th>\n",
       "      <th>Sign language</th>\n",
       "      <th>Spoken language</th>\n",
       "      <th>Sign value</th>\n",
       "      <th>Spoken value</th>\n",
       "    </tr>\n",
       "  </thead>\n",
       "  <tbody>\n",
       "    <tr>\n",
       "      <th>12</th>\n",
       "      <td>Langue des Signes Française</td>\n",
       "      <td>French</td>\n",
       "      <td>3</td>\n",
       "      <td>1</td>\n",
       "    </tr>\n",
       "    <tr>\n",
       "      <th>13</th>\n",
       "      <td>Langue des Signes Québecoise</td>\n",
       "      <td>French</td>\n",
       "      <td>3</td>\n",
       "      <td>1</td>\n",
       "    </tr>\n",
       "  </tbody>\n",
       "</table>\n",
       "</div>"
      ],
      "text/plain": [
       "                   Sign language Spoken language  Sign value  Spoken value\n",
       "12   Langue des Signes Française          French           3             1\n",
       "13  Langue des Signes Québecoise          French           3             1"
      ]
     },
     "execution_count": 193,
     "metadata": {},
     "output_type": "execute_result"
    }
   ],
   "source": [
    "dfmapping[dfmapping['Spoken language'] == 'French']"
   ]
  },
  {
   "cell_type": "code",
   "execution_count": 194,
   "id": "d6329e9d",
   "metadata": {},
   "outputs": [
    {
     "data": {
      "text/html": [
       "<div>\n",
       "<style scoped>\n",
       "    .dataframe tbody tr th:only-of-type {\n",
       "        vertical-align: middle;\n",
       "    }\n",
       "\n",
       "    .dataframe tbody tr th {\n",
       "        vertical-align: top;\n",
       "    }\n",
       "\n",
       "    .dataframe thead th {\n",
       "        text-align: right;\n",
       "    }\n",
       "</style>\n",
       "<table border=\"1\" class=\"dataframe\">\n",
       "  <thead>\n",
       "    <tr style=\"text-align: right;\">\n",
       "      <th></th>\n",
       "      <th>Sign language</th>\n",
       "      <th>Spoken language</th>\n",
       "      <th>Sign value</th>\n",
       "      <th>Spoken value</th>\n",
       "    </tr>\n",
       "  </thead>\n",
       "  <tbody>\n",
       "    <tr>\n",
       "      <th>14</th>\n",
       "      <td>Lengua de Señas Argentina</td>\n",
       "      <td>Spanish</td>\n",
       "      <td>3</td>\n",
       "      <td>1</td>\n",
       "    </tr>\n",
       "    <tr>\n",
       "      <th>15</th>\n",
       "      <td>Lengua de Señas Española</td>\n",
       "      <td>Spanish</td>\n",
       "      <td>2</td>\n",
       "      <td>1</td>\n",
       "    </tr>\n",
       "  </tbody>\n",
       "</table>\n",
       "</div>"
      ],
      "text/plain": [
       "                Sign language Spoken language  Sign value  Spoken value\n",
       "14  Lengua de Señas Argentina         Spanish           3             1\n",
       "15   Lengua de Señas Española         Spanish           2             1"
      ]
     },
     "execution_count": 194,
     "metadata": {},
     "output_type": "execute_result"
    }
   ],
   "source": [
    "dfmapping[dfmapping['Spoken language'] == 'Spanish']"
   ]
  },
  {
   "cell_type": "markdown",
   "id": "1a87a435",
   "metadata": {},
   "source": [
    "The tables presented illustrate the differences between the negation complexity index of a spoken language and a corresponding signed language. "
   ]
  },
  {
   "cell_type": "markdown",
   "id": "044ae068",
   "metadata": {},
   "source": [
    "## Indo-Pakistani Sign Language: individual focus\n",
    "Lastly, I want to focus on the relationship between one specific sign language and one specific spoken language. <br>\n",
    "Indo-Pakistani Sign Language (IPSL from now on) is an obvious outlier in the 139A language sample. A Pakistani variety of IPSL lacks irregular negative forms entirely, and an Indian variety has only one.\n",
    "I am going to compare IPSL to Urdu then. The comparision will be twofold:\n",
    "<ol>\n",
    "    <li>Assymetric negation patterns in Urdu</li>\n",
    "    <li>Irregular negation patterns in Urdu</li>\n",
    "</ol>"
   ]
  },
  {
   "cell_type": "markdown",
   "id": "c175ac57",
   "metadata": {},
   "source": [
    "### Assymetric negation patterns in Urdu\n",
    "The whole language sample of Miestamo is dedicated to assymetries that may arise when negation is added.\n",
    "The value for assymetric negation type for Urdu is *A/Cat*, which means 'marking of grammatical categories (such as tense, aspect, mood, person, number, etc.) under negation'. More specifically, when a negative particle *nahII* is added in the present tense, the person marking dissapears. Compare the following sentences:"
   ]
  },
  {
   "cell_type": "markdown",
   "id": "f8b38016",
   "metadata": {},
   "source": [
    ">*…mAI hinsa tathaa logO kii hatya mE bharosaa nahII rakhtaa <br>\n",
    ">I violence and people of murder in faith NEG keep* <br>\n",
    ">“I do not believe in violence and the murder of people.” <br>\n"
   ]
  },
  {
   "cell_type": "markdown",
   "id": "7fd71ffa",
   "metadata": {},
   "source": [
    ">*mAI Prataap hOO <br>\n",
    ">I Pratap AUX.1SG <br>*\n",
    ">'I am Pratap' <br>"
   ]
  },
  {
   "cell_type": "markdown",
   "id": "f72def9d",
   "metadata": {},
   "source": [
    "This pair of examples shows that when there is *nahII* added, the auxiliary can be dropped. Therefore, the person agreement disappears. However, as described in (Snell, Weightman 2003:25), there is still an option to use both *nahII* and the auxiliary."
   ]
  },
  {
   "cell_type": "markdown",
   "id": "7b80e738",
   "metadata": {},
   "source": [
    "Actually, this pattern neatly corresponds to the patterns of IPSL, where it is either the negation or the auxiliary. Consider the following pair from (Zeshan 2000: 95)"
   ]
  },
  {
   "cell_type": "markdown",
   "id": "222ce94a",
   "metadata": {},
   "source": [
    ">*MAIN' CA:E NAHIN'<br>\n",
    ">I tea NEG*<br>\n",
    ">'I haven't had tea yet'"
   ]
  },
  {
   "cell_type": "markdown",
   "id": "e28b60ba",
   "metadata": {},
   "source": [
    ">*BAP MA:N HAI<br>*\n",
    ">*father mother IS<br>*\n",
    ">My parents are alive<br>"
   ]
  },
  {
   "cell_type": "markdown",
   "id": "51bcb631",
   "metadata": {},
   "source": [
    "However, this correspondence can be explained by universal preferences of signed languages and not by a spoken language influence. To be more precise, sign languages 'do not like agreement', as one may put it."
   ]
  },
  {
   "cell_type": "markdown",
   "id": "d891f95a",
   "metadata": {},
   "source": [
    "### Irregular negation patterns in Urdu\n",
    "Although IPSL is reported not to have irregular negation markers, that is not the case for Urdu. Along with several negative particles (*na*, *nahII* and *mat*, see Lampp 2006), there are also nominal negative prefixes borrowed from Persian: *na* and *be*. Sometimes na can be attached to native Urdu stems as well, e.g. nasəmədʒh (‘credulous’). (Islam 2011: 64)."
   ]
  },
  {
   "cell_type": "markdown",
   "id": "cedf3b2f",
   "metadata": {},
   "source": [
    "In her classification of irregular negation markers, U.Zeshan distinguishes between negative derivation and negative suppletion. Though cases of negative suppletion are harder to look for, I think I have an example. It is the echo-reduplication derivation, which seems to be an NPI in Urdu (Montaut 2010:40):"
   ]
  },
  {
   "cell_type": "markdown",
   "id": "132fbb17",
   "metadata": {},
   "source": [
    ">*mere pâs koî pen-ven nahîN*<br>\n",
    ">*of-me near INDEF pen-echo NEG*<br>\n",
    ">‘I don’t have anything to write’<br>\n"
   ]
  },
  {
   "cell_type": "markdown",
   "id": "03c3b74c",
   "metadata": {},
   "source": [
    "## Conclusions\n",
    "I had two hypotheses while doing this project. Unfortunately, the amount of data was scarce, and no firm conslusions have been made about either the areal correspondence of the two samples neither about the mapping. However, the project had a clear educational impact on me, as I dug into a new linguistic subdiscipline."
   ]
  }
 ],
 "metadata": {
  "kernelspec": {
   "display_name": "Python 3 (ipykernel)",
   "language": "python",
   "name": "python3"
  },
  "language_info": {
   "codemirror_mode": {
    "name": "ipython",
    "version": 3
   },
   "file_extension": ".py",
   "mimetype": "text/x-python",
   "name": "python",
   "nbconvert_exporter": "python",
   "pygments_lexer": "ipython3",
   "version": "3.10.7"
  }
 },
 "nbformat": 4,
 "nbformat_minor": 5
}
